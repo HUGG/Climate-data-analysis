{
 "cells": [
  {
   "cell_type": "markdown",
   "metadata": {
    "nbgrader": {
     "grade": false,
     "grade_id": "cell-8233ac8439a10563",
     "locked": true,
     "schema_version": 3,
     "solution": false,
     "task": false
    }
   },
   "source": [
    "# Geo-Python 2020 final exercise (40 points)\n",
    "\n",
    "The final exercise in the Geo-Python course involves calculating and plotting seasonal weather anomalies to see how temperatures have changed in different seasons over the past 100+ years. We will be using weather data from the Sodankylä weather station in northern Finland.\n",
    "\n",
    "## What to do\n",
    "\n",
    "In contrast to earlier exercises in the course, in this exercise we are providing an empty notebook and only general instructions of how to complete the exercise. This is to help us see how much you have learned about programming in Python and to see how you would approach interacting with data using your new skills.\n",
    "\n",
    "For this exercise you should:\n",
    "\n",
    "1. Read in the provided data file using Pandas and missing data to NA values.\n",
    "2. Fill in the missing values in the `TAVG` column with your estimates of the average daily temperature as noted above in the data section. You can then drop any average daily temperatures that are still missing.\n",
    "3. Define and use a function to convert temperatures in Fahrenheit to Celsius.\n",
    "4. Calculate seasonal average temperatures for each season in every year (e.g., Winter 1909, Spring 1909, Summer 1909, ...)\n",
    "\n",
    "    - The seasons should include the following months:\n",
    "    \n",
    "        - Winter: December, January, February\n",
    "        - Spring: March, April, May\n",
    "        - Summer: June, July, August\n",
    "        - Autumn: September, October, November\n",
    "\n",
    "5. Calculate seasonal average temperatures for the reference period 1951-1980 (e.g., 4 values in total, one for each season)\n",
    "6. Calculate seasonal temperature anomalies for each year\n",
    "7. Plot the data as shown in the example above\n",
    "\n",
    "Note that we also hope to see you use Markdown cells to explain your data analysis, and code comments where needed to explain what your code does."
   ]
  },
  {
   "cell_type": "markdown",
   "metadata": {
    "nbgrader": {
     "grade": false,
     "grade_id": "cell-c73426860e28df2a",
     "locked": true,
     "schema_version": 3,
     "solution": false,
     "task": false
    }
   },
   "source": [
    "## Getting started\n",
    "\n",
    "### Importing libraries\n",
    "\n",
    "First, we can start by importing the pandas and matplotlib libraries"
   ]
  },
  {
   "cell_type": "code",
   "execution_count": 1,
   "metadata": {
    "nbgrader": {
     "grade": false,
     "grade_id": "cell-6bece74aaaa34cd4",
     "locked": true,
     "schema_version": 3,
     "solution": false,
     "task": false
    }
   },
   "outputs": [],
   "source": [
    "import pandas as pd\n",
    "import matplotlib.pyplot as plt"
   ]
  },
  {
   "cell_type": "markdown",
   "metadata": {},
   "source": [
    "### Reading the data\n",
    "\n",
    "Next, we can read in the data from the datafile, skipping the second row, using only select columns, and converting `-9999` values to not a number."
   ]
  },
  {
   "cell_type": "code",
   "execution_count": 27,
   "metadata": {},
   "outputs": [],
   "source": [
    "# Read data\n",
    "fp = r'data/2315676.txt'\n",
    "data = pd.read_csv(fp, delim_whitespace=True, skiprows=[1], usecols=['DATE', 'TAVG', 'TMAX', 'TMIN'], na_values='-9999')"
   ]
  },
  {
   "cell_type": "markdown",
   "metadata": {},
   "source": [
    "### Checking the data\n",
    "\n",
    "Let's just have a quick look now to see what our data look like."
   ]
  },
  {
   "cell_type": "code",
   "execution_count": 33,
   "metadata": {},
   "outputs": [
    {
     "data": {
      "text/html": [
       "<div>\n",
       "<style scoped>\n",
       "    .dataframe tbody tr th:only-of-type {\n",
       "        vertical-align: middle;\n",
       "    }\n",
       "\n",
       "    .dataframe tbody tr th {\n",
       "        vertical-align: top;\n",
       "    }\n",
       "\n",
       "    .dataframe thead th {\n",
       "        text-align: right;\n",
       "    }\n",
       "</style>\n",
       "<table border=\"1\" class=\"dataframe\">\n",
       "  <thead>\n",
       "    <tr style=\"text-align: right;\">\n",
       "      <th></th>\n",
       "      <th>DATE</th>\n",
       "      <th>TAVG</th>\n",
       "      <th>TMAX</th>\n",
       "      <th>TMIN</th>\n",
       "      <th>TMEAN</th>\n",
       "      <th>TEMP</th>\n",
       "    </tr>\n",
       "  </thead>\n",
       "  <tbody>\n",
       "    <tr>\n",
       "      <th>0</th>\n",
       "      <td>19080101</td>\n",
       "      <td>NaN</td>\n",
       "      <td>2.0</td>\n",
       "      <td>-37.0</td>\n",
       "      <td>-17.5</td>\n",
       "      <td>-17.5</td>\n",
       "    </tr>\n",
       "    <tr>\n",
       "      <th>1</th>\n",
       "      <td>19080102</td>\n",
       "      <td>NaN</td>\n",
       "      <td>6.0</td>\n",
       "      <td>-26.0</td>\n",
       "      <td>-10.0</td>\n",
       "      <td>-10.0</td>\n",
       "    </tr>\n",
       "    <tr>\n",
       "      <th>2</th>\n",
       "      <td>19080103</td>\n",
       "      <td>NaN</td>\n",
       "      <td>7.0</td>\n",
       "      <td>-27.0</td>\n",
       "      <td>-10.0</td>\n",
       "      <td>-10.0</td>\n",
       "    </tr>\n",
       "    <tr>\n",
       "      <th>3</th>\n",
       "      <td>19080104</td>\n",
       "      <td>NaN</td>\n",
       "      <td>-3.0</td>\n",
       "      <td>-27.0</td>\n",
       "      <td>-15.0</td>\n",
       "      <td>-15.0</td>\n",
       "    </tr>\n",
       "    <tr>\n",
       "      <th>4</th>\n",
       "      <td>19080105</td>\n",
       "      <td>NaN</td>\n",
       "      <td>4.0</td>\n",
       "      <td>-36.0</td>\n",
       "      <td>-16.0</td>\n",
       "      <td>-16.0</td>\n",
       "    </tr>\n",
       "  </tbody>\n",
       "</table>\n",
       "</div>"
      ],
      "text/plain": [
       "       DATE  TAVG  TMAX  TMIN  TMEAN  TEMP\n",
       "0  19080101   NaN   2.0 -37.0  -17.5 -17.5\n",
       "1  19080102   NaN   6.0 -26.0  -10.0 -10.0\n",
       "2  19080103   NaN   7.0 -27.0  -10.0 -10.0\n",
       "3  19080104   NaN  -3.0 -27.0  -15.0 -15.0\n",
       "4  19080105   NaN   4.0 -36.0  -16.0 -16.0"
      ]
     },
     "execution_count": 33,
     "metadata": {},
     "output_type": "execute_result"
    }
   ],
   "source": [
    "data.head()"
   ]
  },
  {
   "cell_type": "code",
   "execution_count": 4,
   "metadata": {},
   "outputs": [
    {
     "data": {
      "text/html": [
       "<div>\n",
       "<style scoped>\n",
       "    .dataframe tbody tr th:only-of-type {\n",
       "        vertical-align: middle;\n",
       "    }\n",
       "\n",
       "    .dataframe tbody tr th {\n",
       "        vertical-align: top;\n",
       "    }\n",
       "\n",
       "    .dataframe thead th {\n",
       "        text-align: right;\n",
       "    }\n",
       "</style>\n",
       "<table border=\"1\" class=\"dataframe\">\n",
       "  <thead>\n",
       "    <tr style=\"text-align: right;\">\n",
       "      <th></th>\n",
       "      <th>DATE</th>\n",
       "      <th>TAVG</th>\n",
       "      <th>TMAX</th>\n",
       "      <th>TMIN</th>\n",
       "    </tr>\n",
       "  </thead>\n",
       "  <tbody>\n",
       "    <tr>\n",
       "      <th>41060</th>\n",
       "      <td>20201003</td>\n",
       "      <td>47.0</td>\n",
       "      <td>51.0</td>\n",
       "      <td>NaN</td>\n",
       "    </tr>\n",
       "    <tr>\n",
       "      <th>41061</th>\n",
       "      <td>20201004</td>\n",
       "      <td>43.0</td>\n",
       "      <td>47.0</td>\n",
       "      <td>37.0</td>\n",
       "    </tr>\n",
       "    <tr>\n",
       "      <th>41062</th>\n",
       "      <td>20201005</td>\n",
       "      <td>42.0</td>\n",
       "      <td>NaN</td>\n",
       "      <td>37.0</td>\n",
       "    </tr>\n",
       "    <tr>\n",
       "      <th>41063</th>\n",
       "      <td>20201006</td>\n",
       "      <td>45.0</td>\n",
       "      <td>46.0</td>\n",
       "      <td>43.0</td>\n",
       "    </tr>\n",
       "    <tr>\n",
       "      <th>41064</th>\n",
       "      <td>20201007</td>\n",
       "      <td>47.0</td>\n",
       "      <td>50.0</td>\n",
       "      <td>44.0</td>\n",
       "    </tr>\n",
       "  </tbody>\n",
       "</table>\n",
       "</div>"
      ],
      "text/plain": [
       "           DATE  TAVG  TMAX  TMIN\n",
       "41060  20201003  47.0  51.0   NaN\n",
       "41061  20201004  43.0  47.0  37.0\n",
       "41062  20201005  42.0   NaN  37.0\n",
       "41063  20201006  45.0  46.0  43.0\n",
       "41064  20201007  47.0  50.0  44.0"
      ]
     },
     "execution_count": 4,
     "metadata": {},
     "output_type": "execute_result"
    }
   ],
   "source": [
    "data.tail()"
   ]
  },
  {
   "cell_type": "markdown",
   "metadata": {},
   "source": [
    "## Processing the data\n",
    "\n",
    "As you can see above, the average daily temperatures should be in the column `TAVG`, but seem to be missing in some cases. We can fill in these values using an estimate for the average daily temperature as the average of the daily min and max temperatures.\n",
    "\n",
    "First, we need to calcualte the mean temperatures."
   ]
  },
  {
   "cell_type": "code",
   "execution_count": 29,
   "metadata": {},
   "outputs": [],
   "source": [
    "data['TMEAN'] = (data['TMAX'] + data['TMIN']) / 2.0"
   ]
  },
  {
   "cell_type": "markdown",
   "metadata": {},
   "source": [
    "Now that we have done that, we can fill in any missing `TAVG` values with our estimated mean temperature for the day."
   ]
  },
  {
   "cell_type": "code",
   "execution_count": 30,
   "metadata": {},
   "outputs": [
    {
     "name": "stderr",
     "output_type": "stream",
     "text": [
      "/Users/whipp/anaconda3/envs/geopython/lib/python3.7/site-packages/pandas/core/indexing.py:1637: SettingWithCopyWarning: \n",
      "A value is trying to be set on a copy of a slice from a DataFrame\n",
      "\n",
      "See the caveats in the documentation: https://pandas.pydata.org/pandas-docs/stable/user_guide/indexing.html#returning-a-view-versus-a-copy\n",
      "  self._setitem_single_block(indexer, value, name)\n"
     ]
    }
   ],
   "source": [
    "data['TEMP'] = data['TAVG']\n",
    "data['TEMP'].loc[data['TEMP'].isnull()] = data['TMEAN']"
   ]
  },
  {
   "cell_type": "markdown",
   "metadata": {},
   "source": [
    "Note that it is even easier to use the `.fillna()` method to replace the missing values with the estimates!"
   ]
  },
  {
   "cell_type": "markdown",
   "metadata": {},
   "source": [
    "Finally, we should drop any columns where the daily average temperature is still missing."
   ]
  },
  {
   "cell_type": "code",
   "execution_count": 31,
   "metadata": {},
   "outputs": [],
   "source": [
    "data.dropna(subset=['TEMP'], inplace=True)"
   ]
  },
  {
   "cell_type": "code",
   "execution_count": 32,
   "metadata": {},
   "outputs": [
    {
     "data": {
      "text/plain": [
       "40882"
      ]
     },
     "execution_count": 32,
     "metadata": {},
     "output_type": "execute_result"
    }
   ],
   "source": [
    "len(data)"
   ]
  },
  {
   "cell_type": "markdown",
   "metadata": {},
   "source": [
    "## Converting temperatures to Celsius using a function\n",
    "\n",
    "Up to this point we've been working with temperatures in degrees Fahrenheit, but we should convert these to Celsius since those are the preferred units. We can do this using a function."
   ]
  },
  {
   "cell_type": "code",
   "execution_count": 8,
   "metadata": {},
   "outputs": [],
   "source": [
    "def f2c(temp):\n",
    "    \"\"\"Converts temperatures from Fahrenheit to Celsius\"\"\"\n",
    "    return 5/9 * (temp - 32.0)"
   ]
  },
  {
   "cell_type": "markdown",
   "metadata": {},
   "source": [
    "Now that we have defined our temperature conversion function we can apply it to convert the values in the `TEMP` column to Celsius."
   ]
  },
  {
   "cell_type": "code",
   "execution_count": 9,
   "metadata": {},
   "outputs": [],
   "source": [
    "data['TEMP_C'] = data['TEMP'].apply(f2c)"
   ]
  },
  {
   "cell_type": "markdown",
   "metadata": {},
   "source": [
    "At this point we should again check out our dataframe to see how things are looking."
   ]
  },
  {
   "cell_type": "code",
   "execution_count": null,
   "metadata": {},
   "outputs": [],
   "source": []
  },
  {
   "cell_type": "markdown",
   "metadata": {},
   "source": [
    "## Calculating monthly average temperatures\n",
    "\n",
    "The next step is to take our daily temperature values and calculate monthly averages. To do this we first need to convert our dates to strings so we can slice them to select individual months."
   ]
  },
  {
   "cell_type": "code",
   "execution_count": 10,
   "metadata": {},
   "outputs": [],
   "source": [
    "data['DATE_STR'] = data['DATE'].astype(str)\n",
    "data['YEARMO'] = data['DATE_STR'].str.slice(start=0, stop=6)"
   ]
  },
  {
   "cell_type": "markdown",
   "metadata": {},
   "source": [
    "Now we have a year and month (`YEARMO`) for each temperature value and we can use this to group our data into monthly groups for each year."
   ]
  },
  {
   "cell_type": "code",
   "execution_count": 11,
   "metadata": {},
   "outputs": [],
   "source": [
    "grouped = data.groupby('YEARMO')"
   ]
  },
  {
   "cell_type": "markdown",
   "metadata": {},
   "source": [
    "At this stage we can take our monthly groups, average each of them and append them to a new dataframe with monthly data."
   ]
  },
  {
   "cell_type": "code",
   "execution_count": 12,
   "metadata": {},
   "outputs": [],
   "source": [
    "# Create an empty DataFrame for the aggregated values\n",
    "monthly_data = pd.DataFrame()\n",
    "\n",
    "# The columns that we want to aggregate\n",
    "mean_cols = ['TAVG', 'TMAX', 'TMIN', 'TMEAN', 'TEMP', 'TEMP_C']\n",
    "\n",
    "# Iterate over the groups\n",
    "for key, group in grouped:\n",
    "    \n",
    "   # Calculate mean\n",
    "   mean_values = group[mean_cols].mean()\n",
    "\n",
    "   # Add the ´key´ (i.e. the date+time information) into the aggregated values\n",
    "   mean_values['YEARMO'] = key\n",
    "\n",
    "   # Append the aggregated values into the DataFrame\n",
    "   monthly_data = monthly_data.append(mean_values, ignore_index=True)"
   ]
  },
  {
   "cell_type": "markdown",
   "metadata": {},
   "source": [
    "## Calculating monthly average temperatures for the reference period\n",
    "\n",
    "The next step is to determing the average temperature for each month over the temperature period 1951-1980, the reference period. We can do this by grouping by month over a selected set of years."
   ]
  },
  {
   "cell_type": "code",
   "execution_count": 13,
   "metadata": {},
   "outputs": [],
   "source": [
    "monthly_data['MONTH'] = monthly_data['YEARMO'].str.slice(start=4, stop=6)\n",
    "grouped = monthly_data.loc[(monthly_data['YEARMO'].astype(int) >= 195101) &\n",
    "                           (monthly_data['YEARMO'].astype(int) <= 198012)].groupby('MONTH')"
   ]
  },
  {
   "cell_type": "markdown",
   "metadata": {},
   "source": [
    "Now, as we did above, we can go through each group and calculate an average temperature for each month."
   ]
  },
  {
   "cell_type": "code",
   "execution_count": 14,
   "metadata": {},
   "outputs": [],
   "source": [
    "# Create an empty DataFrame for the aggregated values\n",
    "ref_temps = pd.DataFrame()\n",
    "\n",
    "# Iterate over the groups\n",
    "for key, group in grouped:\n",
    "    \n",
    "    # Calculate mean\n",
    "    ref_value = group['TEMP_C'].mean()\n",
    "\n",
    "    # Create Series with values\n",
    "    mean_series = pd.Series([key, ref_value])\n",
    "\n",
    "    # Append the aggregated values into the DataFrame\n",
    "    ref_temps = ref_temps.append(mean_series, ignore_index=True)"
   ]
  },
  {
   "cell_type": "markdown",
   "metadata": {},
   "source": [
    "Lastly, we can assign column names for the new reference period average monthly temperatures."
   ]
  },
  {
   "cell_type": "code",
   "execution_count": 15,
   "metadata": {},
   "outputs": [],
   "source": [
    "ref_temps.columns = ['MONTH', 'REF_TEMP']"
   ]
  },
  {
   "cell_type": "markdown",
   "metadata": {},
   "source": [
    "Let's have a quick look at our new dataframe."
   ]
  },
  {
   "cell_type": "code",
   "execution_count": 16,
   "metadata": {},
   "outputs": [
    {
     "data": {
      "text/html": [
       "<div>\n",
       "<style scoped>\n",
       "    .dataframe tbody tr th:only-of-type {\n",
       "        vertical-align: middle;\n",
       "    }\n",
       "\n",
       "    .dataframe tbody tr th {\n",
       "        vertical-align: top;\n",
       "    }\n",
       "\n",
       "    .dataframe thead th {\n",
       "        text-align: right;\n",
       "    }\n",
       "</style>\n",
       "<table border=\"1\" class=\"dataframe\">\n",
       "  <thead>\n",
       "    <tr style=\"text-align: right;\">\n",
       "      <th></th>\n",
       "      <th>MONTH</th>\n",
       "      <th>REF_TEMP</th>\n",
       "    </tr>\n",
       "  </thead>\n",
       "  <tbody>\n",
       "    <tr>\n",
       "      <th>0</th>\n",
       "      <td>01</td>\n",
       "      <td>-14.400836</td>\n",
       "    </tr>\n",
       "    <tr>\n",
       "      <th>1</th>\n",
       "      <td>02</td>\n",
       "      <td>-14.045863</td>\n",
       "    </tr>\n",
       "    <tr>\n",
       "      <th>2</th>\n",
       "      <td>03</td>\n",
       "      <td>-8.931392</td>\n",
       "    </tr>\n",
       "    <tr>\n",
       "      <th>3</th>\n",
       "      <td>04</td>\n",
       "      <td>-2.605247</td>\n",
       "    </tr>\n",
       "    <tr>\n",
       "      <th>4</th>\n",
       "      <td>05</td>\n",
       "      <td>4.503286</td>\n",
       "    </tr>\n",
       "    <tr>\n",
       "      <th>5</th>\n",
       "      <td>06</td>\n",
       "      <td>11.470062</td>\n",
       "    </tr>\n",
       "    <tr>\n",
       "      <th>6</th>\n",
       "      <td>07</td>\n",
       "      <td>14.040024</td>\n",
       "    </tr>\n",
       "    <tr>\n",
       "      <th>7</th>\n",
       "      <td>08</td>\n",
       "      <td>11.660693</td>\n",
       "    </tr>\n",
       "    <tr>\n",
       "      <th>8</th>\n",
       "      <td>09</td>\n",
       "      <td>5.916890</td>\n",
       "    </tr>\n",
       "    <tr>\n",
       "      <th>9</th>\n",
       "      <td>10</td>\n",
       "      <td>-0.848268</td>\n",
       "    </tr>\n",
       "    <tr>\n",
       "      <th>10</th>\n",
       "      <td>11</td>\n",
       "      <td>-7.508025</td>\n",
       "    </tr>\n",
       "    <tr>\n",
       "      <th>11</th>\n",
       "      <td>12</td>\n",
       "      <td>-12.250896</td>\n",
       "    </tr>\n",
       "  </tbody>\n",
       "</table>\n",
       "</div>"
      ],
      "text/plain": [
       "   MONTH   REF_TEMP\n",
       "0     01 -14.400836\n",
       "1     02 -14.045863\n",
       "2     03  -8.931392\n",
       "3     04  -2.605247\n",
       "4     05   4.503286\n",
       "5     06  11.470062\n",
       "6     07  14.040024\n",
       "7     08  11.660693\n",
       "8     09   5.916890\n",
       "9     10  -0.848268\n",
       "10    11  -7.508025\n",
       "11    12 -12.250896"
      ]
     },
     "execution_count": 16,
     "metadata": {},
     "output_type": "execute_result"
    }
   ],
   "source": [
    "ref_temps"
   ]
  },
  {
   "cell_type": "markdown",
   "metadata": {},
   "source": [
    "We can also output the seasonal reference temperatures here, since many students calculate these rather than monthly reference temps."
   ]
  },
  {
   "cell_type": "code",
   "execution_count": 17,
   "metadata": {},
   "outputs": [
    {
     "name": "stdout",
     "output_type": "stream",
     "text": [
      "Seasonal temperatures\n",
      "Winter: -13.565865\n",
      "Spring:  -2.344451\n",
      "Summer:  12.390260\n",
      "Autumn:  -0.813134\n"
     ]
    }
   ],
   "source": [
    "winter_ref = ref_temps['REF_TEMP'].loc[(ref_temps['MONTH'] == '12') | (ref_temps['MONTH'] == '01') | (ref_temps['MONTH'] == '02')].values.mean()\n",
    "spring_ref = ref_temps['REF_TEMP'].loc[(ref_temps['MONTH'] == '03') | (ref_temps['MONTH'] == '04') | (ref_temps['MONTH'] == '05')].values.mean()\n",
    "summer_ref = ref_temps['REF_TEMP'].loc[(ref_temps['MONTH'] == '06') | (ref_temps['MONTH'] == '07') | (ref_temps['MONTH'] == '08')].values.mean()\n",
    "autumn_ref = ref_temps['REF_TEMP'].loc[(ref_temps['MONTH'] == '09') | (ref_temps['MONTH'] == '10') | (ref_temps['MONTH'] == '11')].values.mean()\n",
    "print('Seasonal temperatures\\nWinter: {0:.6f}\\nSpring:  {1:.6f}\\nSummer:  {2:.6f}\\nAutumn:  {3:.6f}'.format(winter_ref, spring_ref, summer_ref, autumn_ref))"
   ]
  },
  {
   "cell_type": "markdown",
   "metadata": {},
   "source": [
    "## Calculating temperature anomalies\n",
    "\n",
    "The next big step is to calculate temperature anomalies for each month in our dataset. These anomalies are difference in average monthly temperature compared to the reference period's equivalent month.\n",
    "\n",
    "In order to proceed, let's first see what our `monthly_data` dataframe looks like."
   ]
  },
  {
   "cell_type": "code",
   "execution_count": 18,
   "metadata": {},
   "outputs": [
    {
     "data": {
      "text/html": [
       "<div>\n",
       "<style scoped>\n",
       "    .dataframe tbody tr th:only-of-type {\n",
       "        vertical-align: middle;\n",
       "    }\n",
       "\n",
       "    .dataframe tbody tr th {\n",
       "        vertical-align: top;\n",
       "    }\n",
       "\n",
       "    .dataframe thead th {\n",
       "        text-align: right;\n",
       "    }\n",
       "</style>\n",
       "<table border=\"1\" class=\"dataframe\">\n",
       "  <thead>\n",
       "    <tr style=\"text-align: right;\">\n",
       "      <th></th>\n",
       "      <th>TAVG</th>\n",
       "      <th>TEMP</th>\n",
       "      <th>TEMP_C</th>\n",
       "      <th>TMAX</th>\n",
       "      <th>TMEAN</th>\n",
       "      <th>TMIN</th>\n",
       "      <th>YEARMO</th>\n",
       "      <th>MONTH</th>\n",
       "    </tr>\n",
       "  </thead>\n",
       "  <tbody>\n",
       "    <tr>\n",
       "      <th>0</th>\n",
       "      <td>NaN</td>\n",
       "      <td>5.586207</td>\n",
       "      <td>-14.674330</td>\n",
       "      <td>14.862069</td>\n",
       "      <td>5.586207</td>\n",
       "      <td>-3.689655</td>\n",
       "      <td>190801</td>\n",
       "      <td>01</td>\n",
       "    </tr>\n",
       "    <tr>\n",
       "      <th>1</th>\n",
       "      <td>NaN</td>\n",
       "      <td>5.185185</td>\n",
       "      <td>-14.897119</td>\n",
       "      <td>16.555556</td>\n",
       "      <td>5.185185</td>\n",
       "      <td>-6.185185</td>\n",
       "      <td>190802</td>\n",
       "      <td>02</td>\n",
       "    </tr>\n",
       "    <tr>\n",
       "      <th>2</th>\n",
       "      <td>NaN</td>\n",
       "      <td>15.233333</td>\n",
       "      <td>-9.314815</td>\n",
       "      <td>26.433333</td>\n",
       "      <td>15.233333</td>\n",
       "      <td>4.033333</td>\n",
       "      <td>190803</td>\n",
       "      <td>03</td>\n",
       "    </tr>\n",
       "    <tr>\n",
       "      <th>3</th>\n",
       "      <td>NaN</td>\n",
       "      <td>30.775862</td>\n",
       "      <td>-0.680077</td>\n",
       "      <td>38.689655</td>\n",
       "      <td>30.775862</td>\n",
       "      <td>22.862069</td>\n",
       "      <td>190804</td>\n",
       "      <td>04</td>\n",
       "    </tr>\n",
       "    <tr>\n",
       "      <th>4</th>\n",
       "      <td>NaN</td>\n",
       "      <td>38.107143</td>\n",
       "      <td>3.392857</td>\n",
       "      <td>48.142857</td>\n",
       "      <td>38.107143</td>\n",
       "      <td>28.071429</td>\n",
       "      <td>190805</td>\n",
       "      <td>05</td>\n",
       "    </tr>\n",
       "    <tr>\n",
       "      <th>...</th>\n",
       "      <td>...</td>\n",
       "      <td>...</td>\n",
       "      <td>...</td>\n",
       "      <td>...</td>\n",
       "      <td>...</td>\n",
       "      <td>...</td>\n",
       "      <td>...</td>\n",
       "      <td>...</td>\n",
       "    </tr>\n",
       "    <tr>\n",
       "      <th>1348</th>\n",
       "      <td>59.666667</td>\n",
       "      <td>59.666667</td>\n",
       "      <td>15.370370</td>\n",
       "      <td>69.933333</td>\n",
       "      <td>58.916667</td>\n",
       "      <td>46.277778</td>\n",
       "      <td>202006</td>\n",
       "      <td>06</td>\n",
       "    </tr>\n",
       "    <tr>\n",
       "      <th>1349</th>\n",
       "      <td>58.806452</td>\n",
       "      <td>58.806452</td>\n",
       "      <td>14.892473</td>\n",
       "      <td>67.225806</td>\n",
       "      <td>58.666667</td>\n",
       "      <td>49.666667</td>\n",
       "      <td>202007</td>\n",
       "      <td>07</td>\n",
       "    </tr>\n",
       "    <tr>\n",
       "      <th>1350</th>\n",
       "      <td>55.466667</td>\n",
       "      <td>55.466667</td>\n",
       "      <td>13.037037</td>\n",
       "      <td>65.266667</td>\n",
       "      <td>54.277778</td>\n",
       "      <td>42.666667</td>\n",
       "      <td>202008</td>\n",
       "      <td>08</td>\n",
       "    </tr>\n",
       "    <tr>\n",
       "      <th>1351</th>\n",
       "      <td>45.766667</td>\n",
       "      <td>45.766667</td>\n",
       "      <td>7.648148</td>\n",
       "      <td>54.482759</td>\n",
       "      <td>45.473684</td>\n",
       "      <td>36.000000</td>\n",
       "      <td>202009</td>\n",
       "      <td>09</td>\n",
       "    </tr>\n",
       "    <tr>\n",
       "      <th>1352</th>\n",
       "      <td>46.428571</td>\n",
       "      <td>46.428571</td>\n",
       "      <td>8.015873</td>\n",
       "      <td>50.000000</td>\n",
       "      <td>45.875000</td>\n",
       "      <td>41.600000</td>\n",
       "      <td>202010</td>\n",
       "      <td>10</td>\n",
       "    </tr>\n",
       "  </tbody>\n",
       "</table>\n",
       "<p>1353 rows × 8 columns</p>\n",
       "</div>"
      ],
      "text/plain": [
       "           TAVG       TEMP     TEMP_C       TMAX      TMEAN       TMIN  \\\n",
       "0           NaN   5.586207 -14.674330  14.862069   5.586207  -3.689655   \n",
       "1           NaN   5.185185 -14.897119  16.555556   5.185185  -6.185185   \n",
       "2           NaN  15.233333  -9.314815  26.433333  15.233333   4.033333   \n",
       "3           NaN  30.775862  -0.680077  38.689655  30.775862  22.862069   \n",
       "4           NaN  38.107143   3.392857  48.142857  38.107143  28.071429   \n",
       "...         ...        ...        ...        ...        ...        ...   \n",
       "1348  59.666667  59.666667  15.370370  69.933333  58.916667  46.277778   \n",
       "1349  58.806452  58.806452  14.892473  67.225806  58.666667  49.666667   \n",
       "1350  55.466667  55.466667  13.037037  65.266667  54.277778  42.666667   \n",
       "1351  45.766667  45.766667   7.648148  54.482759  45.473684  36.000000   \n",
       "1352  46.428571  46.428571   8.015873  50.000000  45.875000  41.600000   \n",
       "\n",
       "      YEARMO MONTH  \n",
       "0     190801    01  \n",
       "1     190802    02  \n",
       "2     190803    03  \n",
       "3     190804    04  \n",
       "4     190805    05  \n",
       "...      ...   ...  \n",
       "1348  202006    06  \n",
       "1349  202007    07  \n",
       "1350  202008    08  \n",
       "1351  202009    09  \n",
       "1352  202010    10  \n",
       "\n",
       "[1353 rows x 8 columns]"
      ]
     },
     "execution_count": 18,
     "metadata": {},
     "output_type": "execute_result"
    }
   ],
   "source": [
    "monthly_data"
   ]
  },
  {
   "cell_type": "markdown",
   "metadata": {},
   "source": [
    "Since we have a column for the month in both the `ref_temps` and `monthly_data` dataframes we can easily join the two and add the reference temperatures to the `monthly_data` dataframe. Afterward we can subtract the reference temperatures from the `TEMP_C` values to get the monthly temperature anomalies."
   ]
  },
  {
   "cell_type": "code",
   "execution_count": 19,
   "metadata": {},
   "outputs": [],
   "source": [
    "# Join the data from reference_temps with outer join to monthly_data\n",
    "monthly_data = monthly_data.merge(ref_temps, on='MONTH', how='outer')\n",
    "\n",
    "# Sort the values by 'Date_m' to ensure that the order of the values are the same as originally\n",
    "monthly_data = monthly_data.sort_values(by='YEARMO')\n",
    "\n",
    "# Reset index\n",
    "monthly_data = monthly_data.reset_index(drop=True)\n",
    "\n",
    "# Let's calculate the differences\n",
    "monthly_data['DIFF'] = monthly_data['TEMP_C'] - monthly_data['REF_TEMP']"
   ]
  },
  {
   "cell_type": "markdown",
   "metadata": {},
   "source": [
    "### Calculating seasonal temperature anomalies\n",
    "\n",
    "At this point we have the temperature anomalies for each month of our dataset with respect to the reference period. Next we need to calculate the seasonal temperature anomalies by combining months. We'll use the following months for each season:\n",
    "\n",
    "- Winter: December (of previous year), January, February\n",
    "- Spring: March, April, May\n",
    "- Summer: June, July, August\n",
    "- Autumn: September, October, November\n",
    "\n",
    "Let's start with getting the years separated from the `YEARMO` column."
   ]
  },
  {
   "cell_type": "code",
   "execution_count": 20,
   "metadata": {},
   "outputs": [],
   "source": [
    "monthly_data['YEAR'] = monthly_data['YEARMO'].str.slice(start=0, stop=4)"
   ]
  },
  {
   "cell_type": "markdown",
   "metadata": {},
   "source": [
    "At this stage we move on to the heavy lifting. Below we create new dataframes for each season, select the months in each season, calculate a seasonal average temperature, and append it to the corresponding dataframe."
   ]
  },
  {
   "cell_type": "code",
   "execution_count": 21,
   "metadata": {},
   "outputs": [],
   "source": [
    "winter_temps = pd.DataFrame()\n",
    "spring_temps = pd.DataFrame()\n",
    "summer_temps = pd.DataFrame()\n",
    "autumn_temps = pd.DataFrame()\n",
    "\n",
    "for year in range(1909,2021):\n",
    "    winter_diffs = monthly_data['DIFF'].loc[(monthly_data['YEARMO'].astype(int)>=100*(year-1)+12) & (monthly_data['YEARMO'].astype(int)<=100*year+2)]\n",
    "    winter_temp_c = monthly_data['TEMP_C'].loc[(monthly_data['YEARMO'].astype(int)>=100*(year-1)+12) & (monthly_data['YEARMO'].astype(int)<=100*year+2)]\n",
    "    spring_diffs = monthly_data['DIFF'].loc[(monthly_data['YEARMO'].astype(int)>=100*(year)+3) & (monthly_data['YEARMO'].astype(int)<=100*year+5)]\n",
    "    spring_temp_c = monthly_data['TEMP_C'].loc[(monthly_data['YEARMO'].astype(int)>=100*(year)+3) & (monthly_data['YEARMO'].astype(int)<=100*year+5)]\n",
    "    summer_diffs = monthly_data['DIFF'].loc[(monthly_data['YEARMO'].astype(int)>=100*(year)+6) & (monthly_data['YEARMO'].astype(int)<=100*year+8)]\n",
    "    summer_temp_c = monthly_data['TEMP_C'].loc[(monthly_data['YEARMO'].astype(int)>=100*(year)+6) & (monthly_data['YEARMO'].astype(int)<=100*year+8)]\n",
    "    autumn_diffs = monthly_data['DIFF'].loc[(monthly_data['YEARMO'].astype(int)>=100*(year)+9) & (monthly_data['YEARMO'].astype(int)<=100*year+11)]\n",
    "    autumn_temp_c = monthly_data['TEMP_C'].loc[(monthly_data['YEARMO'].astype(int)>=100*(year)+9) & (monthly_data['YEARMO'].astype(int)<=100*year+11)]\n",
    "\n",
    "    winter_series = pd.Series([year, winter_temp_c.mean(), winter_diffs.mean()])\n",
    "    if len(winter_diffs) == 3:\n",
    "        winter_temps = winter_temps.append(winter_series, ignore_index=True)\n",
    "    spring_series = pd.Series([year, spring_temp_c.mean(), spring_diffs.mean()])\n",
    "    if len(spring_diffs) == 3:\n",
    "        spring_temps = spring_temps.append(spring_series, ignore_index=True)\n",
    "    summer_series = pd.Series([year, summer_temp_c.mean(), summer_diffs.mean()])\n",
    "    if len(summer_diffs) == 3:\n",
    "        summer_temps = summer_temps.append(summer_series, ignore_index=True)\n",
    "    autumn_series = pd.Series([year, autumn_temp_c.mean(), autumn_diffs.mean()])\n",
    "    if len(autumn_diffs) == 3:\n",
    "        autumn_temps = autumn_temps.append(autumn_series, ignore_index=True)\n",
    "\n",
    "winter_temps.columns = ['YEAR', 'TEMP_C', 'DIFF']\n",
    "spring_temps.columns = ['YEAR', 'TEMP_C', 'DIFF']\n",
    "summer_temps.columns = ['YEAR', 'TEMP_C', 'DIFF']\n",
    "autumn_temps.columns = ['YEAR', 'TEMP_C', 'DIFF']"
   ]
  },
  {
   "cell_type": "code",
   "execution_count": 22,
   "metadata": {},
   "outputs": [
    {
     "data": {
      "text/html": [
       "<div>\n",
       "<style scoped>\n",
       "    .dataframe tbody tr th:only-of-type {\n",
       "        vertical-align: middle;\n",
       "    }\n",
       "\n",
       "    .dataframe tbody tr th {\n",
       "        vertical-align: top;\n",
       "    }\n",
       "\n",
       "    .dataframe thead th {\n",
       "        text-align: right;\n",
       "    }\n",
       "</style>\n",
       "<table border=\"1\" class=\"dataframe\">\n",
       "  <thead>\n",
       "    <tr style=\"text-align: right;\">\n",
       "      <th></th>\n",
       "      <th>YEAR</th>\n",
       "      <th>TEMP_C</th>\n",
       "      <th>DIFF</th>\n",
       "    </tr>\n",
       "  </thead>\n",
       "  <tbody>\n",
       "    <tr>\n",
       "      <th>0</th>\n",
       "      <td>1909.0</td>\n",
       "      <td>-10.317138</td>\n",
       "      <td>3.248727</td>\n",
       "    </tr>\n",
       "    <tr>\n",
       "      <th>1</th>\n",
       "      <td>1910.0</td>\n",
       "      <td>-9.936639</td>\n",
       "      <td>3.629226</td>\n",
       "    </tr>\n",
       "    <tr>\n",
       "      <th>2</th>\n",
       "      <td>1911.0</td>\n",
       "      <td>-13.571098</td>\n",
       "      <td>-0.005233</td>\n",
       "    </tr>\n",
       "    <tr>\n",
       "      <th>3</th>\n",
       "      <td>1912.0</td>\n",
       "      <td>-16.794189</td>\n",
       "      <td>-3.228324</td>\n",
       "    </tr>\n",
       "    <tr>\n",
       "      <th>4</th>\n",
       "      <td>1913.0</td>\n",
       "      <td>-14.220114</td>\n",
       "      <td>-0.654249</td>\n",
       "    </tr>\n",
       "    <tr>\n",
       "      <th>...</th>\n",
       "      <td>...</td>\n",
       "      <td>...</td>\n",
       "      <td>...</td>\n",
       "    </tr>\n",
       "    <tr>\n",
       "      <th>107</th>\n",
       "      <td>2016.0</td>\n",
       "      <td>-11.000082</td>\n",
       "      <td>2.565783</td>\n",
       "    </tr>\n",
       "    <tr>\n",
       "      <th>108</th>\n",
       "      <td>2017.0</td>\n",
       "      <td>-9.794120</td>\n",
       "      <td>3.771745</td>\n",
       "    </tr>\n",
       "    <tr>\n",
       "      <th>109</th>\n",
       "      <td>2018.0</td>\n",
       "      <td>-12.195767</td>\n",
       "      <td>1.370098</td>\n",
       "    </tr>\n",
       "    <tr>\n",
       "      <th>110</th>\n",
       "      <td>2019.0</td>\n",
       "      <td>-12.350870</td>\n",
       "      <td>1.214995</td>\n",
       "    </tr>\n",
       "    <tr>\n",
       "      <th>111</th>\n",
       "      <td>2020.0</td>\n",
       "      <td>-7.993656</td>\n",
       "      <td>5.572210</td>\n",
       "    </tr>\n",
       "  </tbody>\n",
       "</table>\n",
       "<p>112 rows × 3 columns</p>\n",
       "</div>"
      ],
      "text/plain": [
       "       YEAR     TEMP_C      DIFF\n",
       "0    1909.0 -10.317138  3.248727\n",
       "1    1910.0  -9.936639  3.629226\n",
       "2    1911.0 -13.571098 -0.005233\n",
       "3    1912.0 -16.794189 -3.228324\n",
       "4    1913.0 -14.220114 -0.654249\n",
       "..      ...        ...       ...\n",
       "107  2016.0 -11.000082  2.565783\n",
       "108  2017.0  -9.794120  3.771745\n",
       "109  2018.0 -12.195767  1.370098\n",
       "110  2019.0 -12.350870  1.214995\n",
       "111  2020.0  -7.993656  5.572210\n",
       "\n",
       "[112 rows x 3 columns]"
      ]
     },
     "execution_count": 22,
     "metadata": {},
     "output_type": "execute_result"
    }
   ],
   "source": [
    "winter_temps"
   ]
  },
  {
   "cell_type": "markdown",
   "metadata": {},
   "source": [
    "## Plotting the data\n",
    "\n",
    "Now that we have all of the seasonal average temperatures we can move on to plotting the results. We'll do this using a four-panel plot for each season as directed."
   ]
  },
  {
   "cell_type": "code",
   "execution_count": 24,
   "metadata": {},
   "outputs": [
    {
     "data": {
      "image/png": "[encoded data removed]",
      "text/plain": [
       "<Figure size 864x576 with 4 Axes>"
      ]
     },
     "metadata": {
      "needs_background": "light"
     },
     "output_type": "display_data"
    }
   ],
   "source": [
    "nrows=2\n",
    "ncols=2\n",
    "\n",
    "fig, axes = plt.subplots(nrows, ncols, figsize=(12,8))\n",
    "for i in range(nrows):\n",
    "    for j in range(ncols):\n",
    "        if (i==0) and (j==0):\n",
    "            axes[i,j].plot(winter_temps['YEAR'], winter_temps['DIFF'], marker='o', color='tab:blue', label='Winter')\n",
    "        if (i==0) and (j==1):\n",
    "            axes[i,j].plot(spring_temps['YEAR'], spring_temps['DIFF'], marker='o', color='tab:orange', label='Spring')\n",
    "        if (i==1) and (j==0):\n",
    "            axes[i,j].plot(summer_temps['YEAR'], summer_temps['DIFF'], marker='o', color='tab:green', label='Summer')\n",
    "        if (i==1) and (j==1):\n",
    "            axes[i,j].plot(autumn_temps['YEAR'], autumn_temps['DIFF'], marker='o', color='tab:red', label='Autumn')\n",
    "        axes[i,j].set_xlim([1909, 2019])\n",
    "        axes[i,j].set_ylim([-7.5, 7.5])\n",
    "        if i == 1:\n",
    "            axes[i,j].set_xlabel('Date')\n",
    "        if j == 0:\n",
    "            axes[i,j].set_ylabel('Temperature anomaly (°C)')\n",
    "        axes[i,j].grid()\n",
    "        axes[i,j].legend()\n",
    "\n",
    "plt.tight_layout()\n",
    "plt.savefig('seasonal-averages.png', dpi=300)"
   ]
  },
  {
   "cell_type": "code",
   "execution_count": null,
   "metadata": {},
   "outputs": [],
   "source": []
  }
 ],
 "metadata": {
  "celltoolbar": "Create Assignment",
  "kernelspec": {
   "display_name": "Python 3",
   "language": "python",
   "name": "python3"
  },
  "language_info": {
   "codemirror_mode": {
    "name": "ipython",
    "version": 3
   },
   "file_extension": ".py",
   "mimetype": "text/x-python",
   "name": "python",
   "nbconvert_exporter": "python",
   "pygments_lexer": "ipython3",
   "version": "3.7.4"
  }
 },
 "nbformat": 4,
 "nbformat_minor": 4
}
